{
  "nbformat": 4,
  "nbformat_minor": 0,
  "metadata": {
    "colab": {
      "provenance": [],
      "authorship_tag": "ABX9TyNJqTHy2EpmffhHVO0XOchi",
      "include_colab_link": true
    },
    "kernelspec": {
      "name": "python3",
      "display_name": "Python 3"
    },
    "language_info": {
      "name": "python"
    }
  },
  "cells": [
    {
      "cell_type": "markdown",
      "metadata": {
        "id": "view-in-github",
        "colab_type": "text"
      },
      "source": [
        "<a href=\"https://colab.research.google.com/github/anmay-kaushik/mlearning/blob/main/Naive_bayes.ipynb\" target=\"_parent\"><img src=\"https://colab.research.google.com/assets/colab-badge.svg\" alt=\"Open In Colab\"/></a>"
      ]
    },
    {
      "cell_type": "code",
      "execution_count": 1,
      "metadata": {
        "id": "MC_ieYFWBZd2"
      },
      "outputs": [],
      "source": [
        "import numpy as  np"
      ]
    },
    {
      "cell_type": "code",
      "source": [
        "def fit(X_train, Y_train):\n",
        "    result = {}\n",
        "    class_values = set(Y_train)\n",
        "    for current_class in class_values:\n",
        "        result[current_class] = {}\n",
        "        result[\"total_data\"] = len(Y_train)\n",
        "        current_class_rows = (Y_train == current_class)\n",
        "        X_train_current = X_train[current_class_rows]\n",
        "        Y_train_current = Y_train[current_class_rows]\n",
        "        num_features = X_train.shape[1]\n",
        "        result[current_class][\"total_count\"] = len(Y_train_current)\n",
        "        for j in range(1, num_features + 1):\n",
        "            result[current_class][j] = {}\n",
        "            all_possible_values = set(X_train[:, j - 1])\n",
        "            for current_value in all_possible_values:\n",
        "                result[current_class][j][current_value] = (X_train_current[:, j - 1] == current_value).sum()\n",
        "\n",
        "    return result"
      ],
      "metadata": {
        "id": "eg6E_8jVDcSz"
      },
      "execution_count": 23,
      "outputs": []
    },
    {
      "cell_type": "code",
      "source": [
        "def probability(dictionary, x, current_class):\n",
        "    output = np.log(dictionary[current_class][\"total_count\"]) - np.log(dictionary[\"total_data\"])\n",
        "    num_features = len(dictionary[current_class].keys()) - 1;\n",
        "    for j in range(1, num_features + 1):\n",
        "        xj = x[j - 1]\n",
        "        count_current_class_with_value_xj = dictionary[current_class][j][int(xj)] + 1\n",
        "        count_current_class = dictionary[current_class][\"total_count\"] + len(dictionary[current_class][j].keys())\n",
        "        current_xj_probablity = np.log(count_current_class_with_value_xj) - np.log(count_current_class)\n",
        "        output = output + current_xj_probablity\n",
        "    return output"
      ],
      "metadata": {
        "id": "zP9T4tbvPQDJ"
      },
      "execution_count": 32,
      "outputs": []
    },
    {
      "cell_type": "code",
      "source": [
        "def predictSinglePoint(dictionary, x):\n",
        "    classes = dictionary.keys()\n",
        "    best_p = -1000\n",
        "    best_class = -1\n",
        "    first_run = True\n",
        "    for current_class in classes:\n",
        "        if (current_class == \"total_data\"):\n",
        "            continue\n",
        "        p_current_class = probability(dictionary, x, current_class)\n",
        "        if (first_run or p_current_class > best_p):\n",
        "            best_p = p_current_class\n",
        "            best_class = current_class\n",
        "        first_run = False\n",
        "    return best_class\n",
        "\n",
        "\n"
      ],
      "metadata": {
        "id": "vxM4Exx3L-AR"
      },
      "execution_count": 33,
      "outputs": []
    },
    {
      "cell_type": "code",
      "source": [
        "def predict(dictionary, X_test):\n",
        "    y_pred = []\n",
        "    for x in X_test:\n",
        "        x_class = predictSinglePoint(dictionary, x)\n",
        "        y_pred.append(x_class)\n",
        "    return y_pred"
      ],
      "metadata": {
        "id": "pP7mrS2mGYP_"
      },
      "execution_count": 34,
      "outputs": []
    },
    {
      "cell_type": "code",
      "source": [
        "def makeLabelled(column):\n",
        "    second_limit = column.mean()\n",
        "    first_limit = 0.5 * second_limit\n",
        "    third_limit = 1.5*second_limit\n",
        "    for i in range (0,len(column)):\n",
        "        if (column[i] < first_limit):\n",
        "            column[i] = 0\n",
        "        elif (column[i] < second_limit):\n",
        "            column[i] = 1\n",
        "        elif(column[i] < third_limit):\n",
        "            column[i] = 2\n",
        "        else:\n",
        "            column[i] = 3\n",
        "    return column\n"
      ],
      "metadata": {
        "id": "Df1KvJKJHAp-"
      },
      "execution_count": 35,
      "outputs": []
    },
    {
      "cell_type": "code",
      "source": [
        "from sklearn import datasets\n",
        "iris=datasets.load_iris()\n",
        "X=iris.data\n",
        "Y=iris.target\n"
      ],
      "metadata": {
        "id": "GpRKdSFTN51e"
      },
      "execution_count": 36,
      "outputs": []
    },
    {
      "cell_type": "code",
      "source": [
        "for i in range(0,X.shape[-1]):\n",
        "    X[:,i] = makeLabelled(X[:,i])"
      ],
      "metadata": {
        "id": "q8r2Ah63OGQ7"
      },
      "execution_count": 37,
      "outputs": []
    },
    {
      "cell_type": "code",
      "source": [
        "from sklearn import model_selection\n",
        "X_train,X_test,Y_train,Y_test = model_selection.train_test_split(X,Y,test_size=0.25,random_state=0)"
      ],
      "metadata": {
        "id": "zO-OIcFEOpFj"
      },
      "execution_count": 38,
      "outputs": []
    },
    {
      "cell_type": "code",
      "source": [
        "dictionary = fit(X_train,Y_train)"
      ],
      "metadata": {
        "id": "70jXeiwcPGsr"
      },
      "execution_count": 39,
      "outputs": []
    },
    {
      "cell_type": "code",
      "source": [
        "Y_pred = predict(dictionary,X_test)"
      ],
      "metadata": {
        "id": "fQ6qtIH59gCl"
      },
      "execution_count": 40,
      "outputs": []
    },
    {
      "cell_type": "code",
      "source": [
        "classes = dictionary.keys()"
      ],
      "metadata": {
        "id": "AB2wgg27PWvH"
      },
      "execution_count": 42,
      "outputs": []
    },
    {
      "cell_type": "code",
      "source": [
        "from sklearn.naive_bayes import GaussianNB\n",
        "clf = GaussianNB()\n",
        "clf.fit(X_train, Y_train)\n",
        "Y_pred = clf.predict(X_test)\n",
        "print(classification_report(Y_test,Y_pred))\n",
        "print(confusion_matrix(Y_test,Y_pred))"
      ],
      "metadata": {
        "colab": {
          "base_uri": "https://localhost:8080/"
        },
        "id": "edQzci0GLYu3",
        "outputId": "8a21ad3a-c157-44a1-fc0c-6bdc392202fa"
      },
      "execution_count": 43,
      "outputs": [
        {
          "output_type": "stream",
          "name": "stdout",
          "text": [
            "              precision    recall  f1-score   support\n",
            "\n",
            "           0       1.00      0.85      0.92        13\n",
            "           1       0.76      1.00      0.86        16\n",
            "           2       1.00      0.67      0.80         9\n",
            "\n",
            "    accuracy                           0.87        38\n",
            "   macro avg       0.92      0.84      0.86        38\n",
            "weighted avg       0.90      0.87      0.87        38\n",
            "\n",
            "[[11  2  0]\n",
            " [ 0 16  0]\n",
            " [ 0  3  6]]\n"
          ]
        }
      ]
    },
    {
      "cell_type": "code",
      "source": [
        "from sklearn.naive_bayes import MultinomialNB\n",
        "clf = MultinomialNB()\n",
        "clf.fit(X_train, Y_train)\n",
        "Y_pred = clf.predict(X_test)\n",
        "print(classification_report(Y_test,Y_pred))\n",
        "print(confusion_matrix(Y_test,Y_pred))"
      ],
      "metadata": {
        "colab": {
          "base_uri": "https://localhost:8080/"
        },
        "id": "345fwDNl-YjV",
        "outputId": "5d2fb8ce-4604-44e1-9267-904be7d2f988"
      },
      "execution_count": 44,
      "outputs": [
        {
          "output_type": "stream",
          "name": "stdout",
          "text": [
            "              precision    recall  f1-score   support\n",
            "\n",
            "           0       1.00      0.85      0.92        13\n",
            "           1       0.00      0.00      0.00        16\n",
            "           2       0.36      1.00      0.53         9\n",
            "\n",
            "    accuracy                           0.53        38\n",
            "   macro avg       0.45      0.62      0.48        38\n",
            "weighted avg       0.43      0.53      0.44        38\n",
            "\n",
            "[[11  2  0]\n",
            " [ 0  0 16]\n",
            " [ 0  0  9]]\n"
          ]
        }
      ]
    },
    {
      "cell_type": "code",
      "source": [],
      "metadata": {
        "id": "u2sRvxpn-eaa"
      },
      "execution_count": null,
      "outputs": []
    }
  ]
}
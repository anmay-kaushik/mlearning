{
  "nbformat": 4,
  "nbformat_minor": 0,
  "metadata": {
    "colab": {
      "provenance": [],
      "authorship_tag": "ABX9TyPbHCMnCtHFTEmArMujNmcG",
      "include_colab_link": true
    },
    "kernelspec": {
      "name": "python3",
      "display_name": "Python 3"
    },
    "language_info": {
      "name": "python"
    }
  },
  "cells": [
    {
      "cell_type": "markdown",
      "metadata": {
        "id": "view-in-github",
        "colab_type": "text"
      },
      "source": [
        "<a href=\"https://colab.research.google.com/github/anmay-kaushik/mlearning/blob/main/gradientdescent.ipynb\" target=\"_parent\"><img src=\"https://colab.research.google.com/assets/colab-badge.svg\" alt=\"Open In Colab\"/></a>"
      ]
    },
    {
      "cell_type": "code",
      "execution_count": 1,
      "metadata": {
        "id": "I2BNYNYzM_Bt"
      },
      "outputs": [],
      "source": [
        "import numpy as np\n"
      ]
    },
    {
      "cell_type": "code",
      "source": [
        "data = np.loadtxt(\"/content/data (1).csv\",delimiter=\",\")\n",
        "data.shape"
      ],
      "metadata": {
        "colab": {
          "base_uri": "https://localhost:8080/"
        },
        "id": "YoYKEXCBN8V7",
        "outputId": "6c1bd76c-f66f-43dd-e3a4-da0d88ab5dd5"
      },
      "execution_count": 4,
      "outputs": [
        {
          "output_type": "execute_result",
          "data": {
            "text/plain": [
              "(100, 2)"
            ]
          },
          "metadata": {},
          "execution_count": 4
        }
      ]
    },
    {
      "cell_type": "code",
      "source": [
        "def step_gradient(points,learning_rate,m,c):\n",
        "  m_slope=0\n",
        "  c_slope=0\n",
        "  M=len(points)\n",
        "  for i in range(M):\n",
        "    x=points[i,0]\n",
        "    y=points[i,1]\n",
        "    m_slope+=(-2/M)*(y-m*x-c)*x\n",
        "    c_slope+=(-2/M)*(y-m*x-c)\n",
        "    new_m=m-learning_rate*m_slope\n",
        "    new_c=c-learning_rate*c_slope\n",
        "  return new_m,new_c"
      ],
      "metadata": {
        "id": "d8lho_PdWm-F"
      },
      "execution_count": 14,
      "outputs": []
    },
    {
      "cell_type": "code",
      "source": [
        "def gd(points,learning_rate,num_iterations):\n",
        "  m=0\n",
        "  c=0\n",
        "  for i in range(num_iterations):\n",
        "    m,c=step_gradient(points,learning_rate,m,c)\n",
        "    print(i,\"Cost:\",cost(points,m,c))\n",
        "  return m,c"
      ],
      "metadata": {
        "id": "lzxZY3J6OPZn"
      },
      "execution_count": 21,
      "outputs": []
    },
    {
      "cell_type": "code",
      "source": [
        "def cost(points, m,c):\n",
        "  total_cost=0\n",
        "  M=len(points)\n",
        "  for i in range(M):\n",
        "    x=points[i,0]\n",
        "    y=points[i,1]\n",
        "    total_cost+=(1/M)*((y-m*x-c)**2)\n",
        "  return total_cost"
      ],
      "metadata": {
        "id": "9M_gbR3eaSjE"
      },
      "execution_count": 22,
      "outputs": []
    },
    {
      "cell_type": "code",
      "source": [
        "def run():\n",
        "  data = np.loadtxt(\"/content/data (1).csv\",delimiter=\",\")\n",
        "  learning_rate=0.001\n",
        "  num_iterations=10\n",
        "  m,c=gd(data,learning_rate,num_iterations)\n",
        "  print(m,c)\n",
        "\n"
      ],
      "metadata": {
        "id": "BY853zzFNKZ8"
      },
      "execution_count": 25,
      "outputs": []
    },
    {
      "cell_type": "code",
      "source": [
        "run()"
      ],
      "metadata": {
        "colab": {
          "base_uri": "https://localhost:8080/"
        },
        "id": "dbq43rCWYvPO",
        "outputId": "21ee6f4c-28c2-4d1a-87b4-ddba18fb0b39"
      },
      "execution_count": 26,
      "outputs": [
        {
          "output_type": "stream",
          "name": "stdout",
          "text": [
            "0 Cost: 450353.0407980002\n",
            "1 Cost: 14985803.491140546\n",
            "2 Cost: 498662795.7035008\n",
            "3 Cost: 16593343424.612354\n",
            "4 Cost: 552154779501.4425\n",
            "5 Cost: 18373325539329.2\n",
            "6 Cost: 611384894067162.2\n",
            "7 Cost: 2.0344247855043556e+16\n",
            "8 Cost: 6.769686735864591e+17\n",
            "9 Cost: 2.2526592690119795e+19\n",
            "-81577033.05521637 -1217656.2652774616\n"
          ]
        }
      ]
    }
  ]
}